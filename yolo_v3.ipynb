{
  "nbformat": 4,
  "nbformat_minor": 0,
  "metadata": {
    "colab": {
      "name": "yolo_v3.ipynb",
      "version": "0.3.2",
      "provenance": [],
      "collapsed_sections": []
    },
    "kernelspec": {
      "name": "python3",
      "display_name": "Python 3"
    },
    "accelerator": "GPU"
  },
  "cells": [
    {
      "metadata": {
        "id": "SncouXh5SBsi",
        "colab_type": "code",
        "colab": {}
      },
      "cell_type": "code",
      "source": [
        "!ls"
      ],
      "execution_count": 0,
      "outputs": []
    },
    {
      "metadata": {
        "id": "dYfwd01RFCH7",
        "colab_type": "code",
        "colab": {}
      },
      "cell_type": "code",
      "source": [
        "from google.colab import drive\n",
        "drive.mount('/content/gdrive')"
      ],
      "execution_count": 0,
      "outputs": []
    },
    {
      "metadata": {
        "id": "ifpXVTnEk4-r",
        "colab_type": "code",
        "colab": {}
      },
      "cell_type": "code",
      "source": [
        "%cd /content/gdrive/My\\ Drive/darknet/\n",
        "!ls"
      ],
      "execution_count": 0,
      "outputs": []
    },
    {
      "metadata": {
        "id": "V_DIYzhzsuZ2",
        "colab_type": "code",
        "colab": {}
      },
      "cell_type": "code",
      "source": [
        "%run  -i '/content/gdrive/My Drive/darknet/process.py'"
      ],
      "execution_count": 0,
      "outputs": []
    },
    {
      "metadata": {
        "id": "V4aRGkxFmD8g",
        "colab_type": "code",
        "colab": {}
      },
      "cell_type": "code",
      "source": [
        "!ls /usr/local"
      ],
      "execution_count": 0,
      "outputs": []
    },
    {
      "metadata": {
        "id": "6D-UpGfhOim9",
        "colab_type": "code",
        "colab": {}
      },
      "cell_type": "code",
      "source": [
        "!ln -sf /usr/local/cuda-9.2 /usr/local/cuda"
      ],
      "execution_count": 0,
      "outputs": []
    },
    {
      "metadata": {
        "id": "ukDhHEt337YK",
        "colab_type": "code",
        "colab": {}
      },
      "cell_type": "code",
      "source": [
        "!apt update"
      ],
      "execution_count": 0,
      "outputs": []
    },
    {
      "metadata": {
        "id": "eYxveXrx329b",
        "colab_type": "code",
        "colab": {}
      },
      "cell_type": "code",
      "source": [
        "!apt install cuda-9-2 -y"
      ],
      "execution_count": 0,
      "outputs": []
    },
    {
      "metadata": {
        "id": "2W_ce3dz4T6G",
        "colab_type": "code",
        "colab": {}
      },
      "cell_type": "code",
      "source": [
        "import os\n",
        "os.environ['PATH'] += ':/usr/local/cuda/bin' \n",
        "os.environ['LD_LIBRARY_PATH'] += ':usr/local/cuda/lib64' "
      ],
      "execution_count": 0,
      "outputs": []
    },
    {
      "metadata": {
        "id": "hQzNlMHeBbP_",
        "colab_type": "code",
        "colab": {}
      },
      "cell_type": "code",
      "source": [
        "!echo $LD_LIBRARY_PATH\n",
        "!echo $PATH"
      ],
      "execution_count": 0,
      "outputs": []
    },
    {
      "metadata": {
        "id": "secSE7lo4it9",
        "colab_type": "code",
        "colab": {}
      },
      "cell_type": "code",
      "source": [
        "# !sed -i 's/OPENCV=0/OPENCV=1/g' Makefile\n",
        "!sed -i 's/GPU=0/GPU=1/g' Makefile\n",
        "# !sed -i 's/i%10000==0/i%1000==0/g' examples/detector.c "
      ],
      "execution_count": 0,
      "outputs": []
    },
    {
      "metadata": {
        "id": "rjNVPo_rI5fy",
        "colab_type": "code",
        "colab": {
          "base_uri": "https://localhost:8080/",
          "height": 1822
        },
        "outputId": "e1ae9387-823d-46e6-c605-b1f4beae2644"
      },
      "cell_type": "code",
      "source": [
        "!cat Makefile"
      ],
      "execution_count": 11,
      "outputs": [
        {
          "output_type": "stream",
          "text": [
            "GPU=1\n",
            "CUDNN=0\n",
            "OPENCV=0\n",
            "OPENMP=0\n",
            "DEBUG=0\n",
            "\n",
            "ARCH= -gencode arch=compute_30,code=sm_30 \\\n",
            "      -gencode arch=compute_35,code=sm_35 \\\n",
            "      -gencode arch=compute_50,code=[sm_50,compute_50] \\\n",
            "      -gencode arch=compute_52,code=[sm_52,compute_52] \\\n",
            "      -gencode arch=compute_61,code=[sm_61,compute_61]\n",
            "\n",
            "# This is what I use, uncomment if you know your arch and want to specify\n",
            "# ARCH= -gencode arch=compute_52,code=compute_52\n",
            "\n",
            "VPATH=./src/:./examples\n",
            "SLIB=libdarknet.so\n",
            "ALIB=libdarknet.a\n",
            "EXEC=darknet\n",
            "OBJDIR=./obj/\n",
            "\n",
            "CC=gcc\n",
            "CPP=g++\n",
            "NVCC=nvcc \n",
            "NVCC+=-D_FORCE_INLINES\n",
            "AR=ar\n",
            "ARFLAGS=rcs\n",
            "OPTS=-Ofast\n",
            "LDFLAGS= -lm -pthread \n",
            "COMMON= -Iinclude/ -Isrc/\n",
            "CFLAGS=-Wall -Wno-unused-result -Wno-unknown-pragmas -Wfatal-errors -fPIC\n",
            "\n",
            "ifeq ($(OPENMP), 1) \n",
            "CFLAGS+= -fopenmp\n",
            "endif\n",
            "\n",
            "ifeq ($(DEBUG), 1) \n",
            "OPTS=-O0 -g\n",
            "endif\n",
            "\n",
            "CFLAGS+=$(OPTS)\n",
            "\n",
            "ifeq ($(OPENCV), 1) \n",
            "COMMON+= -DOPENCV\n",
            "CFLAGS+= -DOPENCV\n",
            "LDFLAGS+= `pkg-config --libs opencv` -lstdc++\n",
            "COMMON+= `pkg-config --cflags opencv` \n",
            "endif\n",
            "\n",
            "ifeq ($(GPU), 1) \n",
            "COMMON+= -DGPU -I/usr/local/cuda/include\n",
            "CFLAGS+= -DGPU\n",
            "LDFLAGS+= -L/usr/local/cuda/lib64 -lcuda -lcudart -lcublas -lcurand\n",
            "endif\n",
            "\n",
            "ifeq ($(CUDNN), 1) \n",
            "COMMON+= -DCUDNN \n",
            "CFLAGS+= -DCUDNN\n",
            "LDFLAGS+= -lcudnn\n",
            "endif\n",
            "\n",
            "OBJ=gemm.o utils.o cuda.o deconvolutional_layer.o convolutional_layer.o list.o image.o activations.o im2col.o col2im.o blas.o crop_layer.o dropout_layer.o maxpool_layer.o softmax_layer.o data.o matrix.o network.o connected_layer.o cost_layer.o parser.o option_list.o detection_layer.o route_layer.o upsample_layer.o box.o normalization_layer.o avgpool_layer.o layer.o local_layer.o shortcut_layer.o logistic_layer.o activation_layer.o rnn_layer.o gru_layer.o crnn_layer.o demo.o batchnorm_layer.o region_layer.o reorg_layer.o tree.o  lstm_layer.o l2norm_layer.o yolo_layer.o iseg_layer.o image_opencv.o\n",
            "EXECOBJA=captcha.o lsd.o super.o art.o tag.o cifar.o go.o rnn.o segmenter.o regressor.o classifier.o coco.o yolo.o detector.o nightmare.o instance-segmenter.o darknet.o\n",
            "ifeq ($(GPU), 1) \n",
            "LDFLAGS+= -lstdc++ \n",
            "OBJ+=convolutional_kernels.o deconvolutional_kernels.o activation_kernels.o im2col_kernels.o col2im_kernels.o blas_kernels.o crop_layer_kernels.o dropout_layer_kernels.o maxpool_layer_kernels.o avgpool_layer_kernels.o\n",
            "endif\n",
            "\n",
            "EXECOBJ = $(addprefix $(OBJDIR), $(EXECOBJA))\n",
            "OBJS = $(addprefix $(OBJDIR), $(OBJ))\n",
            "DEPS = $(wildcard src/*.h) Makefile include/darknet.h\n",
            "\n",
            "all: obj backup results $(SLIB) $(ALIB) $(EXEC)\n",
            "#all: obj  results $(SLIB) $(ALIB) $(EXEC)\n",
            "\n",
            "\n",
            "$(EXEC): $(EXECOBJ) $(ALIB)\n",
            "\t$(CC) $(COMMON) $(CFLAGS) $^ -o $@ $(LDFLAGS) $(ALIB)\n",
            "\n",
            "$(ALIB): $(OBJS)\n",
            "\t$(AR) $(ARFLAGS) $@ $^\n",
            "\n",
            "$(SLIB): $(OBJS)\n",
            "\t$(CC) $(CFLAGS) -shared $^ -o $@ $(LDFLAGS)\n",
            "\n",
            "$(OBJDIR)%.o: %.cpp $(DEPS)\n",
            "\t$(CPP) $(COMMON) $(CFLAGS) -c $< -o $@\n",
            "\n",
            "$(OBJDIR)%.o: %.c $(DEPS)\n",
            "\t$(CC) $(COMMON) $(CFLAGS) -c $< -o $@\n",
            "\n",
            "$(OBJDIR)%.o: %.cu $(DEPS)\n",
            "\t$(NVCC) $(ARCH) $(COMMON) --compiler-options \"$(CFLAGS)\" -c $< -o $@\n",
            "\n",
            "obj:\n",
            "\tmkdir -p obj\n",
            "backup:\n",
            "\tmkdir -p backup\n",
            "results:\n",
            "\tmkdir -p results\n",
            "\n",
            ".PHONY: clean\n",
            "\n",
            "clean:\n",
            "\trm -rf $(OBJS) $(SLIB) $(ALIB) $(EXEC) $(EXECOBJ) $(OBJDIR)/*"
          ],
          "name": "stdout"
        }
      ]
    },
    {
      "metadata": {
        "id": "CHaMBD08GY5k",
        "colab_type": "code",
        "colab": {}
      },
      "cell_type": "code",
      "source": [
        " !make"
      ],
      "execution_count": 0,
      "outputs": []
    },
    {
      "metadata": {
        "id": "ORNX1HPprPLE",
        "colab_type": "code",
        "colab": {}
      },
      "cell_type": "code",
      "source": [
        "!./darknet detector train cfg/obj.data cfg/obj.cfg darknet53.conv.74"
      ],
      "execution_count": 0,
      "outputs": []
    },
    {
      "metadata": {
        "id": "_X2pTOtScH7V",
        "colab_type": "code",
        "colab": {}
      },
      "cell_type": "code",
      "source": [
        "!cat /etc/os-release"
      ],
      "execution_count": 0,
      "outputs": []
    },
    {
      "metadata": {
        "id": "HVn1KVAMhJKM",
        "colab_type": "code",
        "colab": {}
      },
      "cell_type": "code",
      "source": [
        "!gcc -v\n",
        "!g++ -v"
      ],
      "execution_count": 0,
      "outputs": []
    }
  ]
}